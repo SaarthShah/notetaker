{
 "cells": [
  {
   "cell_type": "code",
   "execution_count": 9,
   "id": "b5f353b4",
   "metadata": {},
   "outputs": [],
   "source": [
    "import re"
   ]
  },
  {
   "cell_type": "code",
   "execution_count": 1,
   "id": "298950e1",
   "metadata": {},
   "outputs": [],
   "source": [
    "transcript = \"\"\"2024-11-26 16:08:49 - Saarth Shah: That's about.\n",
    "2024-11-26 16:08:51 - Saarth Shah: That's about it. Okay, now it should be storing the transcript from here.\n",
    "2024-11-26 16:08:53 - Saarth Shah: That's about it. Okay, now it should be storing the transcript from here on. So this whole process takes\n",
    "2024-11-26 16:08:55 - Saarth Shah: That's about it. Okay, now it should be storing the transcript from here on. So this whole process takes about a couple of like a minute or so,\n",
    "2024-11-26 16:08:57 - Saarth Shah: That's about it. Okay, now it should be storing the transcript from here on. So this whole process takes about a couple of like a minute or so, I'd say so.\n",
    "2024-11-26 16:08:59 - Saarth Shah: That's about it. Okay, now it should be storing the transcript from here on. So this whole process takes about a couple of like a minute or so I'd say so we can make the agent. Join the column a minute earlier.\n",
    "2024-11-26 16:09:01 - Saarth Shah: That's about it. Okay, now it should be storing the transcript from here on. So this whole process takes about a couple of like a minute or so I'd say so we can make the agent. Join the column a minute earlier and by the way I haven't\n",
    "2024-11-26 16:09:03 - Saarth Shah: That's about it. Okay, now it should be storing the transcript from here on. So this whole process takes about a couple of like a minute or so I'd say so we can make the agent, join the column a minute earlier and by the way I haven't programmed a back end just yet. This is\n",
    "2024-11-26 16:09:05 - Saarth Shah: That's about it. Okay, now it should be storing the transcript from here on. So this whole process takes about a couple of like a minute or so I'd say so we can make the agent, join the column a minute earlier and by the way, I haven't programmed a back end just yet. This is completely running on my local machine but\n",
    "2024-11-26 16:09:07 - Saarth Shah: That's about it. Okay, now it should be storing the transcript from here on. So this whole process takes about a couple of like a minute or so I'd say so we can make the agent, join the column a minute earlier. And by the way, I haven't programmed a back end just yet. This is completely running on my local machine, but I do plan on doing this up.\n",
    "2024-11-26 16:09:09 - Saarth Shah: That's about it. Okay, now it should be storing the transcript from here on. So this whole process takes about a couple of like a minute or so I'd say so we can make the agent, join the column a minute earlier and by the way, I haven't programmed a back end just yet. This is completely running on my local machine but I do plan on doing this up with a super based instance.\n",
    "2024-11-26 16:09:11 - Saarth Shah: That's about it. Okay, now it should be storing the transcript from here on. So this whole process takes about a couple of like a minute or so I'd say so we can make the agent, join the column a minute earlier and by the way, I haven't programmed a back end just yet. This is completely running on my local machine but I do plan on doing this up with a super based instance. so I can, you know,\n",
    "2024-11-26 16:09:13 - Saarth Shah: That's about it. Okay, now it should be storing the transcript from here on. So this whole process takes about a couple of like a minute or so I'd say so we can make the agent, join the column a minute earlier and by the way, I haven't programmed a back end just yet. This is completely running on my local machine but I do plan on doing this up with a super based instance. So I can, you know, put everything into a Web app.\n",
    "2024-11-26 16:09:15 - Saarth Shah: That's about it. Okay, now it should be storing the transcript from here on. So this whole process takes about a couple of like a minute or so I'd say so we can make the agent, join the column a minute earlier and by the way, I haven't programmed a back end just yet. This is completely running on my local machine but I do plan on doing this up with a super based instance. So I can, you know, put everything into a Web app, have it automatically joined my Google.\n",
    "2024-11-26 16:09:17 - Saarth Shah: on. So this whole process takes about a couple of like a minute or so I'd say so we can make the agent, join the column a minute earlier and by the way, I haven't programmed a back end just yet. This is completely running on my local machine but I do plan on doing this up with a super based instance. So I can, you know, put everything into a Web app, have it automatically joined my Google meeting. And take not.\n",
    "2024-11-26 16:09:19 - Saarth Shah: on. So this whole process takes about a couple of like a minute or so I'd say so we can make the agent, join the column a minute earlier and by the way, I haven't programmed a back end just yet. This is completely running on my local machine but I do plan on doing this up with a super based instance. So I can, you know, put everything into a Web app, have it automatically joined my Google meeting. And take notes and that I can refer to deliver maybe.\n",
    "2024-11-26 16:09:21 - Saarth Shah: say so we can make the agent, join the column a minute earlier and by the way, I haven't programmed a back end just yet. This is completely running on my local machine but I do plan on doing this up with a super based instance. So I can, you know, put everything into a Web app, have it automatically joined my Google meeting. and take notes and that I can refer to deliver maybe also potentially burn like notion plugins and\n",
    "2024-11-26 16:09:23 - Saarth Shah: say so we can make the agent, join the column a minute earlier and by the way, I haven't programmed a back end just yet. This is completely running on my local machine but I do plan on doing this up with a super based instance. So I can, you know, put everything into a Web app, have it automatically joined my Google meeting. And take notes and that I can refer to deliver. Maybe also potentially burn like notion plugins and stuff like that googledog plugins.\n",
    "2024-11-26 16:09:26 - Saarth Shah: say so we can make the agent, join the column a minute earlier and by the way, I haven't programmed a back end just yet. This is completely running on my local machine but I do plan on doing this up with a super based instance. So I can, you know, put everything into a Web app, have it automatically joined my Google meeting. And take notes that I can refer to deliver maybe also potentially burn like notion plugins and stuff. Like that googledog plugins will be pretty cool to build\n",
    "2024-11-26 16:09:28 - Saarth Shah: say so we can make the agent, join the column a minute earlier and by the way, I haven't programmed a back end just yet. This is completely running on my local machine but I do plan on doing this up with a super based instance. So I can, you know, put everything into a Web app, have it automatically joined my Google meeting. And take notes that I can refer to deliver maybe also potentially burn like notion plugins and stuff. Like that googledog plugins will be pretty cool to build And the weird program.\n",
    "2024-11-26 16:09:30 - Saarth Shah: end just yet. This is completely running on my local machine but I do plan on doing this up with a super based instance. So I can, you know, put everything into a Web app, have it automatically joined my Google meeting. And take notes that I can refer to deliver maybe also potentially burn like notion plugins and stuff. Like that googledog plugins will be pretty cool to build And the way I program, it just in the call for about 15.\n",
    "2024-11-26 16:09:32 - Saarth Shah: end just yet. This is completely running on my local machine but I do plan on doing this up with a super based instance. So I can, you know, put everything into a Web app, have it automatically joined my Google meeting. And take notes that I can refer to deliver maybe also potentially burn like notion plugins and stuff. Like that googledog plugins will be pretty cool to build And the way I program it just in the call for about 15 more seconds, I made.\n",
    "2024-11-26 16:09:34 - Saarth Shah: end just yet. This is completely running on my local machine but I do plan on doing this up with a super based instance. So I can, you know, put everything into a Web app, have it automatically joined my Google meeting. And take notes that I can refer to deliver maybe also potentially burn like notion plugins and stuff. Like that googledog plugins will be pretty cool to build And the way I program it just in the call for about 15 more seconds. I made it manually. Leave the call about minute.\n",
    "2024-11-26 16:09:36 - Saarth Shah: plan on doing this up with a super based instance. So I can, you know, put everything into a Web app, have it automatically joined my Google meeting. And take notes that I can refer to deliver maybe also potentially burn like notion plugins and stuff. Like that googledog plugins will be pretty cool to build And the way I program it just in the call for about 15 more seconds. I made it manually. Leave the call about minute daily because I just want to test it out here.\n",
    "2024-11-26 16:09:38 - Saarth Shah: plan on doing this up with a super based instance. So I can, you know, put everything into a Web app, have it automatically joined my Google meeting. And take notes that I can refer to deliver maybe also potentially burn like notion plugins and stuff. Like that googledog plugins will be pretty cool to build And the way I program it just in the call for about 15 more seconds. I made it manually. Leave the call about minute daily because I just want to test it out. Here things, good.\n",
    "2024-11-26 16:09:44 - Saarth Shah: plan on doing this up with a super based instance. So I can, you know, put everything into a Web app, have it automatically joined my Google meeting. And take notes that I can refer to deliver maybe also potentially burn like notion plugins and stuff. Like that googledog plugins will be pretty cool to build And the way I program it just in the call for about 15 more seconds. I made it manually. Leave the call about minute daily because I just want to test it out. Here things, good. Three.\n",
    "2024-11-26 16:09:46 - Saarth Shah: plan on doing this up with a super based instance. So I can, you know, put everything into a Web app, have it automatically joined my Google meeting. And take notes that I can refer to deliver maybe also potentially burn like notion plugins and stuff. Like that googledog plugins will be pretty cool to build And the way I program it just in the call for about 15 more seconds. I made it manually. Leave the call about minute daily because I just want to test it out. Here things, good. 3 2.\n",
    "\"\"\""
   ]
  },
  {
   "cell_type": "code",
   "execution_count": 4,
   "id": "ef5fb3d5",
   "metadata": {},
   "outputs": [],
   "source": [
    "statements = transcript.split('\\n')"
   ]
  },
  {
   "cell_type": "code",
   "execution_count": null,
   "id": "64ab97f0",
   "metadata": {},
   "outputs": [],
   "source": []
  },
  {
   "cell_type": "code",
   "execution_count": 45,
   "id": "e8596135",
   "metadata": {},
   "outputs": [],
   "source": [
    "import re\n",
    "from datetime import datetime, timedelta\n",
    "\n",
    "def clean_google_meet_transcript(transcript):\n",
    "    \"\"\"\n",
    "    Cleans the transcript by removing repeated sentences and buildup from previously spoken content,\n",
    "    and only considers statements spoken at least 10 seconds apart for each user.\n",
    "\n",
    "    Args:\n",
    "    transcript (str): The raw transcript string.\n",
    "\n",
    "    Returns:\n",
    "    list: A list of dictionaries with keys: 'date', 'time', 'user', 'content'.\n",
    "    \"\"\"\n",
    "    statements = transcript.split('\\n')\n",
    "    cleaned_statements = []\n",
    "    pattern = r'(\\d{4}-\\d{2}-\\d{2}) (\\d{2}:\\d{2}:\\d{2}) - ([^:]+): (.+)'\n",
    "\n",
    "    # Dictionary to track sentences spoken by each user\n",
    "    user_sentences = {}\n",
    "    # Dictionary to track the last timestamp of each user's statement\n",
    "    last_user_timestamp = {}\n",
    "\n",
    "    for statement in statements:\n",
    "        if statement.strip() == '':\n",
    "            continue\n",
    "\n",
    "        # Match the regex\n",
    "        match = re.match(pattern, statement)\n",
    "        if match:\n",
    "            date, time, user, content = match.groups()\n",
    "            content = content.strip()\n",
    "            timestamp = datetime.strptime(f\"{date} {time}\", '%Y-%m-%d %H:%M:%S')\n",
    "\n",
    "            # Check if this user's statement is at least 10 seconds apart\n",
    "            if user in last_user_timestamp and (timestamp - last_user_timestamp[user]).total_seconds() < 15:\n",
    "                continue  # Skip this statement if within 15 seconds\n",
    "\n",
    "            # Split content into sentences\n",
    "            sentences = [sentence.strip() for sentence in content.split('. ') if sentence.strip()]\n",
    "\n",
    "            # Filter out previously spoken sentences and remove buildup\n",
    "            new_sentences = []\n",
    "            if user not in user_sentences:\n",
    "                user_sentences[user] = set()\n",
    "            for sentence in sentences:\n",
    "                if sentence not in user_sentences[user]:\n",
    "                    new_sentences.append(sentence)\n",
    "                    user_sentences[user].add(sentence)\n",
    "\n",
    "            # Join new sentences to form the cleaned content\n",
    "            cleaned_content = '. '.join(new_sentences)\n",
    "\n",
    "            if cleaned_content:  # Add only if there's meaningful new content\n",
    "                cleaned_statements.append({\n",
    "                    'date': date,\n",
    "                    'time': time,\n",
    "                    'user': user.strip(),\n",
    "                    'content': cleaned_content\n",
    "                })\n",
    "                # Update the last timestamp for this user\n",
    "                last_user_timestamp[user] = timestamp\n",
    "\n",
    "    return cleaned_statements\n"
   ]
  },
  {
   "cell_type": "code",
   "execution_count": 46,
   "id": "d2c7c621",
   "metadata": {},
   "outputs": [],
   "source": [
    "clean = clean_transcript(transcript)"
   ]
  },
  {
   "cell_type": "code",
   "execution_count": 47,
   "id": "a3bda2e9",
   "metadata": {},
   "outputs": [
    {
     "data": {
      "text/plain": [
       "[{'date': '2024-11-26',\n",
       "  'time': '16:08:49',\n",
       "  'user': 'Saarth Shah',\n",
       "  'content': \"That's about.\"},\n",
       " {'date': '2024-11-26',\n",
       "  'time': '16:09:05',\n",
       "  'user': 'Saarth Shah',\n",
       "  'content': \"That's about it. Okay, now it should be storing the transcript from here on. So this whole process takes about a couple of like a minute or so I'd say so we can make the agent, join the column a minute earlier and by the way, I haven't programmed a back end just yet. This is completely running on my local machine but\"},\n",
       " {'date': '2024-11-26',\n",
       "  'time': '16:09:21',\n",
       "  'user': 'Saarth Shah',\n",
       "  'content': \"say so we can make the agent, join the column a minute earlier and by the way, I haven't programmed a back end just yet. This is completely running on my local machine but I do plan on doing this up with a super based instance. So I can, you know, put everything into a Web app, have it automatically joined my Google meeting. and take notes and that I can refer to deliver maybe also potentially burn like notion plugins and\"},\n",
       " {'date': '2024-11-26',\n",
       "  'time': '16:09:36',\n",
       "  'user': 'Saarth Shah',\n",
       "  'content': 'plan on doing this up with a super based instance. And take notes that I can refer to deliver maybe also potentially burn like notion plugins and stuff. Like that googledog plugins will be pretty cool to build And the way I program it just in the call for about 15 more seconds. I made it manually. Leave the call about minute daily because I just want to test it out here.'}]"
      ]
     },
     "execution_count": 47,
     "metadata": {},
     "output_type": "execute_result"
    }
   ],
   "source": [
    "clean"
   ]
  },
  {
   "cell_type": "code",
   "execution_count": 53,
   "id": "4a92d5ed",
   "metadata": {},
   "outputs": [],
   "source": [
    "from dotenv import load_dotenv"
   ]
  },
  {
   "cell_type": "code",
   "execution_count": 54,
   "id": "4b45ddc6",
   "metadata": {},
   "outputs": [
    {
     "data": {
      "text/plain": [
       "True"
      ]
     },
     "execution_count": 54,
     "metadata": {},
     "output_type": "execute_result"
    }
   ],
   "source": [
    "load_dotenv()"
   ]
  },
  {
   "cell_type": "code",
   "execution_count": 60,
   "id": "1266f27b",
   "metadata": {},
   "outputs": [
    {
     "data": {
      "text/plain": [
       "'[{\\'date\\': \\'2024-11-26\\', \\'time\\': \\'16:08:49\\', \\'user\\': \\'Saarth Shah\\', \\'content\\': \"That\\'s about.\"}, {\\'date\\': \\'2024-11-26\\', \\'time\\': \\'16:09:05\\', \\'user\\': \\'Saarth Shah\\', \\'content\\': \"That\\'s about it. Okay, now it should be storing the transcript from here on. So this whole process takes about a couple of like a minute or so I\\'d say so we can make the agent, join the column a minute earlier and by the way, I haven\\'t programmed a back end just yet. This is completely running on my local machine but\"}, {\\'date\\': \\'2024-11-26\\', \\'time\\': \\'16:09:21\\', \\'user\\': \\'Saarth Shah\\', \\'content\\': \"say so we can make the agent, join the column a minute earlier and by the way, I haven\\'t programmed a back end just yet. This is completely running on my local machine but I do plan on doing this up with a super based instance. So I can, you know, put everything into a Web app, have it automatically joined my Google meeting. and take notes and that I can refer to deliver maybe also potentially burn like notion plugins and\"}, {\\'date\\': \\'2024-11-26\\', \\'time\\': \\'16:09:36\\', \\'user\\': \\'Saarth Shah\\', \\'content\\': \\'plan on doing this up with a super based instance. And take notes that I can refer to deliver maybe also potentially burn like notion plugins and stuff. Like that googledog plugins will be pretty cool to build And the way I program it just in the call for about 15 more seconds. I made it manually. Leave the call about minute daily because I just want to test it out here.\\'}]'"
      ]
     },
     "execution_count": 60,
     "metadata": {},
     "output_type": "execute_result"
    }
   ],
   "source": [
    "\"\".join(str(clean))"
   ]
  },
  {
   "cell_type": "code",
   "execution_count": 65,
   "id": "c693da58",
   "metadata": {},
   "outputs": [],
   "source": [
    "from pydantic import BaseModel\n",
    "from openai import OpenAI\n",
    "\n",
    "client = OpenAI()\n",
    "\n",
    "class SummaryEvent(BaseModel):\n",
    "    summary: str\n",
    "    action_items: list[str]\n",
    "\n",
    "completion = client.beta.chat.completions.parse(\n",
    "    model=\"gpt-4o-2024-08-06\",\n",
    "    messages=[\n",
    "        {\"role\": \"system\", \"content\": \"Extract a detailed summary and action items from the transcript\"},\n",
    "        {\"role\": \"user\", \"content\": \"\".join(str(clean))},\n",
    "    ],\n",
    "    response_format=SummaryEvent,\n",
    ")\n",
    "\n",
    "event = completion.choices[0].message.parsed"
   ]
  },
  {
   "cell_type": "code",
   "execution_count": 66,
   "id": "c6cffae1",
   "metadata": {},
   "outputs": [
    {
     "data": {
      "text/plain": [
       "'Saarth Shah is developing a system for automatically joining and taking notes in Google meetings. Currently, the system is running locally without a backend but plans are underway to integrate it with a Supabase instance for deployment as a web app. This would automate the process allowing for functionalities such as joining meetings, taking notes, and possibly using plugins like Notion or Google Docs for enhanced features. The current prototype is manually programmed to leave calls after a set duration to facilitate testing.'"
      ]
     },
     "execution_count": 66,
     "metadata": {},
     "output_type": "execute_result"
    }
   ],
   "source": [
    "event.summary"
   ]
  },
  {
   "cell_type": "code",
   "execution_count": 67,
   "id": "399a1e52",
   "metadata": {},
   "outputs": [
    {
     "data": {
      "text/plain": [
       "['Complete backend integration using Supabase.',\n",
       " 'Develop a web app interface for accessibility and deployment.',\n",
       " 'Incorporate note-taking capabilities in the system.',\n",
       " 'Consider integrating Notion and Google Docs plugins for additional functionalities.',\n",
       " 'Test the meeting joining and note-taking automation thoroughly.']"
      ]
     },
     "execution_count": 67,
     "metadata": {},
     "output_type": "execute_result"
    }
   ],
   "source": [
    "event.action_items"
   ]
  },
  {
   "cell_type": "code",
   "execution_count": 70,
   "id": "9cab5d61",
   "metadata": {},
   "outputs": [],
   "source": [
    "def summarizeTranscript(transcript, prompt=\"\"):\n",
    "    completion = client.beta.chat.completions.parse(\n",
    "    model=\"gpt-4o-2024-08-06\",\n",
    "    messages=[\n",
    "        {\"role\": \"system\", \"content\": \"Extract a detailed summary and action items from the transcript\" + prompt},\n",
    "        {\"role\": \"user\", \"content\": transcript}\n",
    "    ],\n",
    "        response_format=SummaryEvent,\n",
    "    )\n",
    "\n",
    "    event = completion.choices[0].message.parsed\n",
    "    \n",
    "    return {\"summary\":event.summary,\n",
    "            \"action_items\":event.action_items}"
   ]
  },
  {
   "cell_type": "code",
   "execution_count": 71,
   "id": "7ddee36f",
   "metadata": {},
   "outputs": [
    {
     "data": {
      "text/plain": [
       "{'summary': 'Saarth Shah discusses the process of storing transcripts from a Google meeting and mentions that the entirety of the system currently runs on his local machine, lacking a back-end implementation. He plans to migrate the setup to a Superbase instance, enabling it to integrate more efficiently into a web app. This setup will allow the agent to automatically join meetings, take notes, and potentially integrate with Google Docs and Notion plugins. The agent is manually programmed to join meetings a minute early and leave after a set time for testing purposes.',\n",
       " 'action_items': ['Develop a back-end system for the current local machine setup.',\n",
       "  'Set up a Superbase instance for better integration and scalability.',\n",
       "  'Create a web app to automate the joining and note-taking during meetings.',\n",
       "  'Explore integration options with Google Docs and Notion plugins.',\n",
       "  \"Test the timing settings for the agent's joining and leaving the meeting calls.\"]}"
      ]
     },
     "execution_count": 71,
     "metadata": {},
     "output_type": "execute_result"
    }
   ],
   "source": [
    "summarizeTranscript(\"\".join(str(clean)))"
   ]
  },
  {
   "cell_type": "code",
   "execution_count": null,
   "id": "b895b83e",
   "metadata": {},
   "outputs": [],
   "source": []
  }
 ],
 "metadata": {
  "kernelspec": {
   "display_name": "Python 3 (ipykernel)",
   "language": "python",
   "name": "python3"
  },
  "language_info": {
   "codemirror_mode": {
    "name": "ipython",
    "version": 3
   },
   "file_extension": ".py",
   "mimetype": "text/x-python",
   "name": "python",
   "nbconvert_exporter": "python",
   "pygments_lexer": "ipython3",
   "version": "3.11.5"
  }
 },
 "nbformat": 4,
 "nbformat_minor": 5
}
