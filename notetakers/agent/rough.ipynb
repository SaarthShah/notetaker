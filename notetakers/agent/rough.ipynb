{
 "cells": [
  {
   "cell_type": "code",
   "execution_count": 9,
   "id": "7c92f24e",
   "metadata": {},
   "outputs": [],
   "source": [
    "import re"
   ]
  },
  {
   "cell_type": "code",
   "execution_count": 1,
   "id": "26cf7423",
   "metadata": {},
   "outputs": [],
   "source": [
    "transcript = \"\"\"2024-11-26 16:08:49 - Saarth Shah: That's about.\n",
    "2024-11-26 16:08:51 - Saarth Shah: That's about it. Okay, now it should be storing the transcript from here.\n",
    "2024-11-26 16:08:53 - Saarth Shah: That's about it. Okay, now it should be storing the transcript from here on. So this whole process takes\n",
    "2024-11-26 16:08:55 - Saarth Shah: That's about it. Okay, now it should be storing the transcript from here on. So this whole process takes about a couple of like a minute or so,\n",
    "2024-11-26 16:08:57 - Saarth Shah: That's about it. Okay, now it should be storing the transcript from here on. So this whole process takes about a couple of like a minute or so, I'd say so.\n",
    "2024-11-26 16:08:59 - Saarth Shah: That's about it. Okay, now it should be storing the transcript from here on. So this whole process takes about a couple of like a minute or so I'd say so we can make the agent. Join the column a minute earlier.\n",
    "2024-11-26 16:09:01 - Saarth Shah: That's about it. Okay, now it should be storing the transcript from here on. So this whole process takes about a couple of like a minute or so I'd say so we can make the agent. Join the column a minute earlier and by the way I haven't\n",
    "2024-11-26 16:09:03 - Saarth Shah: That's about it. Okay, now it should be storing the transcript from here on. So this whole process takes about a couple of like a minute or so I'd say so we can make the agent, join the column a minute earlier and by the way I haven't programmed a back end just yet. This is\n",
    "2024-11-26 16:09:05 - Saarth Shah: That's about it. Okay, now it should be storing the transcript from here on. So this whole process takes about a couple of like a minute or so I'd say so we can make the agent, join the column a minute earlier and by the way, I haven't programmed a back end just yet. This is completely running on my local machine but\n",
    "2024-11-26 16:09:07 - Saarth Shah: That's about it. Okay, now it should be storing the transcript from here on. So this whole process takes about a couple of like a minute or so I'd say so we can make the agent, join the column a minute earlier. And by the way, I haven't programmed a back end just yet. This is completely running on my local machine, but I do plan on doing this up.\n",
    "2024-11-26 16:09:09 - Saarth Shah: That's about it. Okay, now it should be storing the transcript from here on. So this whole process takes about a couple of like a minute or so I'd say so we can make the agent, join the column a minute earlier and by the way, I haven't programmed a back end just yet. This is completely running on my local machine but I do plan on doing this up with a super based instance.\n",
    "2024-11-26 16:09:11 - Saarth Shah: That's about it. Okay, now it should be storing the transcript from here on. So this whole process takes about a couple of like a minute or so I'd say so we can make the agent, join the column a minute earlier and by the way, I haven't programmed a back end just yet. This is completely running on my local machine but I do plan on doing this up with a super based instance. so I can, you know,\n",
    "2024-11-26 16:09:13 - Saarth Shah: That's about it. Okay, now it should be storing the transcript from here on. So this whole process takes about a couple of like a minute or so I'd say so we can make the agent, join the column a minute earlier and by the way, I haven't programmed a back end just yet. This is completely running on my local machine but I do plan on doing this up with a super based instance. So I can, you know, put everything into a Web app.\n",
    "2024-11-26 16:09:15 - Saarth Shah: That's about it. Okay, now it should be storing the transcript from here on. So this whole process takes about a couple of like a minute or so I'd say so we can make the agent, join the column a minute earlier and by the way, I haven't programmed a back end just yet. This is completely running on my local machine but I do plan on doing this up with a super based instance. So I can, you know, put everything into a Web app, have it automatically joined my Google.\n",
    "2024-11-26 16:09:17 - Saarth Shah: on. So this whole process takes about a couple of like a minute or so I'd say so we can make the agent, join the column a minute earlier and by the way, I haven't programmed a back end just yet. This is completely running on my local machine but I do plan on doing this up with a super based instance. So I can, you know, put everything into a Web app, have it automatically joined my Google meeting. And take not.\n",
    "2024-11-26 16:09:19 - Saarth Shah: on. So this whole process takes about a couple of like a minute or so I'd say so we can make the agent, join the column a minute earlier and by the way, I haven't programmed a back end just yet. This is completely running on my local machine but I do plan on doing this up with a super based instance. So I can, you know, put everything into a Web app, have it automatically joined my Google meeting. And take notes and that I can refer to deliver maybe.\n",
    "2024-11-26 16:09:21 - Saarth Shah: say so we can make the agent, join the column a minute earlier and by the way, I haven't programmed a back end just yet. This is completely running on my local machine but I do plan on doing this up with a super based instance. So I can, you know, put everything into a Web app, have it automatically joined my Google meeting. and take notes and that I can refer to deliver maybe also potentially burn like notion plugins and\n",
    "2024-11-26 16:09:23 - Saarth Shah: say so we can make the agent, join the column a minute earlier and by the way, I haven't programmed a back end just yet. This is completely running on my local machine but I do plan on doing this up with a super based instance. So I can, you know, put everything into a Web app, have it automatically joined my Google meeting. And take notes and that I can refer to deliver. Maybe also potentially burn like notion plugins and stuff like that googledog plugins.\n",
    "2024-11-26 16:09:26 - Saarth Shah: say so we can make the agent, join the column a minute earlier and by the way, I haven't programmed a back end just yet. This is completely running on my local machine but I do plan on doing this up with a super based instance. So I can, you know, put everything into a Web app, have it automatically joined my Google meeting. And take notes that I can refer to deliver maybe also potentially burn like notion plugins and stuff. Like that googledog plugins will be pretty cool to build\n",
    "2024-11-26 16:09:28 - Saarth Shah: say so we can make the agent, join the column a minute earlier and by the way, I haven't programmed a back end just yet. This is completely running on my local machine but I do plan on doing this up with a super based instance. So I can, you know, put everything into a Web app, have it automatically joined my Google meeting. And take notes that I can refer to deliver maybe also potentially burn like notion plugins and stuff. Like that googledog plugins will be pretty cool to build And the weird program.\n",
    "2024-11-26 16:09:30 - Saarth Shah: end just yet. This is completely running on my local machine but I do plan on doing this up with a super based instance. So I can, you know, put everything into a Web app, have it automatically joined my Google meeting. And take notes that I can refer to deliver maybe also potentially burn like notion plugins and stuff. Like that googledog plugins will be pretty cool to build And the way I program, it just in the call for about 15.\n",
    "2024-11-26 16:09:32 - Saarth Shah: end just yet. This is completely running on my local machine but I do plan on doing this up with a super based instance. So I can, you know, put everything into a Web app, have it automatically joined my Google meeting. And take notes that I can refer to deliver maybe also potentially burn like notion plugins and stuff. Like that googledog plugins will be pretty cool to build And the way I program it just in the call for about 15 more seconds, I made.\n",
    "2024-11-26 16:09:34 - Saarth Shah: end just yet. This is completely running on my local machine but I do plan on doing this up with a super based instance. So I can, you know, put everything into a Web app, have it automatically joined my Google meeting. And take notes that I can refer to deliver maybe also potentially burn like notion plugins and stuff. Like that googledog plugins will be pretty cool to build And the way I program it just in the call for about 15 more seconds. I made it manually. Leave the call about minute.\n",
    "2024-11-26 16:09:36 - Saarth Shah: plan on doing this up with a super based instance. So I can, you know, put everything into a Web app, have it automatically joined my Google meeting. And take notes that I can refer to deliver maybe also potentially burn like notion plugins and stuff. Like that googledog plugins will be pretty cool to build And the way I program it just in the call for about 15 more seconds. I made it manually. Leave the call about minute daily because I just want to test it out here.\n",
    "2024-11-26 16:09:38 - Saarth Shah: plan on doing this up with a super based instance. So I can, you know, put everything into a Web app, have it automatically joined my Google meeting. And take notes that I can refer to deliver maybe also potentially burn like notion plugins and stuff. Like that googledog plugins will be pretty cool to build And the way I program it just in the call for about 15 more seconds. I made it manually. Leave the call about minute daily because I just want to test it out. Here things, good.\n",
    "2024-11-26 16:09:44 - Saarth Shah: plan on doing this up with a super based instance. So I can, you know, put everything into a Web app, have it automatically joined my Google meeting. And take notes that I can refer to deliver maybe also potentially burn like notion plugins and stuff. Like that googledog plugins will be pretty cool to build And the way I program it just in the call for about 15 more seconds. I made it manually. Leave the call about minute daily because I just want to test it out. Here things, good. Three.\n",
    "2024-11-26 16:09:46 - Saarth Shah: plan on doing this up with a super based instance. So I can, you know, put everything into a Web app, have it automatically joined my Google meeting. And take notes that I can refer to deliver maybe also potentially burn like notion plugins and stuff. Like that googledog plugins will be pretty cool to build And the way I program it just in the call for about 15 more seconds. I made it manually. Leave the call about minute daily because I just want to test it out. Here things, good. 3 2.\n",
    "\"\"\""
   ]
  },
  {
   "cell_type": "code",
   "execution_count": 4,
   "id": "4342fdbf",
   "metadata": {},
   "outputs": [],
   "source": [
    "statements = transcript.split('\\n')"
   ]
  },
  {
   "cell_type": "code",
   "execution_count": null,
   "id": "f6116cef",
   "metadata": {},
   "outputs": [],
   "source": []
  },
  {
   "cell_type": "code",
   "execution_count": 45,
   "id": "98cb89d9",
   "metadata": {},
   "outputs": [],
   "source": [
    "import re\n",
    "from datetime import datetime, timedelta\n",
    "\n",
    "def clean_google_meet_transcript(transcript):\n",
    "    \"\"\"\n",
    "    Cleans the transcript by removing repeated sentences and buildup from previously spoken content,\n",
    "    and only considers statements spoken at least 10 seconds apart for each user.\n",
    "\n",
    "    Args:\n",
    "    transcript (str): The raw transcript string.\n",
    "\n",
    "    Returns:\n",
    "    list: A list of dictionaries with keys: 'date', 'time', 'user', 'content'.\n",
    "    \"\"\"\n",
    "    statements = transcript.split('\\n')\n",
    "    cleaned_statements = []\n",
    "    pattern = r'(\\d{4}-\\d{2}-\\d{2}) (\\d{2}:\\d{2}:\\d{2}) - ([^:]+): (.+)'\n",
    "\n",
    "    # Dictionary to track sentences spoken by each user\n",
    "    user_sentences = {}\n",
    "    # Dictionary to track the last timestamp of each user's statement\n",
    "    last_user_timestamp = {}\n",
    "\n",
    "    for statement in statements:\n",
    "        if statement.strip() == '':\n",
    "            continue\n",
    "\n",
    "        # Match the regex\n",
    "        match = re.match(pattern, statement)\n",
    "        if match:\n",
    "            date, time, user, content = match.groups()\n",
    "            content = content.strip()\n",
    "            timestamp = datetime.strptime(f\"{date} {time}\", '%Y-%m-%d %H:%M:%S')\n",
    "\n",
    "            # Check if this user's statement is at least 10 seconds apart\n",
    "            if user in last_user_timestamp and (timestamp - last_user_timestamp[user]).total_seconds() < 15:\n",
    "                continue  # Skip this statement if within 15 seconds\n",
    "\n",
    "            # Split content into sentences\n",
    "            sentences = [sentence.strip() for sentence in content.split('. ') if sentence.strip()]\n",
    "\n",
    "            # Filter out previously spoken sentences and remove buildup\n",
    "            new_sentences = []\n",
    "            if user not in user_sentences:\n",
    "                user_sentences[user] = set()\n",
    "            for sentence in sentences:\n",
    "                if sentence not in user_sentences[user]:\n",
    "                    new_sentences.append(sentence)\n",
    "                    user_sentences[user].add(sentence)\n",
    "\n",
    "            # Join new sentences to form the cleaned content\n",
    "            cleaned_content = '. '.join(new_sentences)\n",
    "\n",
    "            if cleaned_content:  # Add only if there's meaningful new content\n",
    "                cleaned_statements.append({\n",
    "                    'date': date,\n",
    "                    'time': time,\n",
    "                    'user': user.strip(),\n",
    "                    'content': cleaned_content\n",
    "                })\n",
    "                # Update the last timestamp for this user\n",
    "                last_user_timestamp[user] = timestamp\n",
    "\n",
    "    return cleaned_statements\n"
   ]
  },
  {
   "cell_type": "code",
   "execution_count": 46,
   "id": "1873dad2",
   "metadata": {},
   "outputs": [],
   "source": [
    "clean = clean_transcript(transcript)"
   ]
  },
  {
   "cell_type": "code",
   "execution_count": 47,
   "id": "05aa7a46",
   "metadata": {},
   "outputs": [
    {
     "data": {
      "text/plain": [
       "[{'date': '2024-11-26',\n",
       "  'time': '16:08:49',\n",
       "  'user': 'Saarth Shah',\n",
       "  'content': \"That's about.\"},\n",
       " {'date': '2024-11-26',\n",
       "  'time': '16:09:05',\n",
       "  'user': 'Saarth Shah',\n",
       "  'content': \"That's about it. Okay, now it should be storing the transcript from here on. So this whole process takes about a couple of like a minute or so I'd say so we can make the agent, join the column a minute earlier and by the way, I haven't programmed a back end just yet. This is completely running on my local machine but\"},\n",
       " {'date': '2024-11-26',\n",
       "  'time': '16:09:21',\n",
       "  'user': 'Saarth Shah',\n",
       "  'content': \"say so we can make the agent, join the column a minute earlier and by the way, I haven't programmed a back end just yet. This is completely running on my local machine but I do plan on doing this up with a super based instance. So I can, you know, put everything into a Web app, have it automatically joined my Google meeting. and take notes and that I can refer to deliver maybe also potentially burn like notion plugins and\"},\n",
       " {'date': '2024-11-26',\n",
       "  'time': '16:09:36',\n",
       "  'user': 'Saarth Shah',\n",
       "  'content': 'plan on doing this up with a super based instance. And take notes that I can refer to deliver maybe also potentially burn like notion plugins and stuff. Like that googledog plugins will be pretty cool to build And the way I program it just in the call for about 15 more seconds. I made it manually. Leave the call about minute daily because I just want to test it out here.'}]"
      ]
     },
     "execution_count": 47,
     "metadata": {},
     "output_type": "execute_result"
    }
   ],
   "source": [
    "clean"
   ]
  },
  {
   "cell_type": "code",
   "execution_count": 53,
   "id": "be1e7854",
   "metadata": {},
   "outputs": [],
   "source": [
    "from dotenv import load_dotenv"
   ]
  },
  {
   "cell_type": "code",
   "execution_count": 54,
   "id": "34e01bd0",
   "metadata": {},
   "outputs": [
    {
     "data": {
      "text/plain": [
       "True"
      ]
     },
     "execution_count": 54,
     "metadata": {},
     "output_type": "execute_result"
    }
   ],
   "source": [
    "load_dotenv()"
   ]
  },
  {
   "cell_type": "code",
   "execution_count": 60,
   "id": "2240c911",
   "metadata": {},
   "outputs": [
    {
     "data": {
      "text/plain": [
       "'[{\\'date\\': \\'2024-11-26\\', \\'time\\': \\'16:08:49\\', \\'user\\': \\'Saarth Shah\\', \\'content\\': \"That\\'s about.\"}, {\\'date\\': \\'2024-11-26\\', \\'time\\': \\'16:09:05\\', \\'user\\': \\'Saarth Shah\\', \\'content\\': \"That\\'s about it. Okay, now it should be storing the transcript from here on. So this whole process takes about a couple of like a minute or so I\\'d say so we can make the agent, join the column a minute earlier and by the way, I haven\\'t programmed a back end just yet. This is completely running on my local machine but\"}, {\\'date\\': \\'2024-11-26\\', \\'time\\': \\'16:09:21\\', \\'user\\': \\'Saarth Shah\\', \\'content\\': \"say so we can make the agent, join the column a minute earlier and by the way, I haven\\'t programmed a back end just yet. This is completely running on my local machine but I do plan on doing this up with a super based instance. So I can, you know, put everything into a Web app, have it automatically joined my Google meeting. and take notes and that I can refer to deliver maybe also potentially burn like notion plugins and\"}, {\\'date\\': \\'2024-11-26\\', \\'time\\': \\'16:09:36\\', \\'user\\': \\'Saarth Shah\\', \\'content\\': \\'plan on doing this up with a super based instance. And take notes that I can refer to deliver maybe also potentially burn like notion plugins and stuff. Like that googledog plugins will be pretty cool to build And the way I program it just in the call for about 15 more seconds. I made it manually. Leave the call about minute daily because I just want to test it out here.\\'}]'"
      ]
     },
     "execution_count": 60,
     "metadata": {},
     "output_type": "execute_result"
    }
   ],
   "source": [
    "\"\".join(str(clean))"
   ]
  },
  {
   "cell_type": "code",
   "execution_count": 65,
   "id": "9b9f3115",
   "metadata": {},
   "outputs": [],
   "source": [
    "from pydantic import BaseModel\n",
    "from openai import OpenAI\n",
    "\n",
    "client = OpenAI()\n",
    "\n",
    "class SummaryEvent(BaseModel):\n",
    "    summary: str\n",
    "    action_items: list[str]\n",
    "\n",
    "completion = client.beta.chat.completions.parse(\n",
    "    model=\"gpt-4o-2024-08-06\",\n",
    "    messages=[\n",
    "        {\"role\": \"system\", \"content\": \"Extract a detailed summary and action items from the transcript\"},\n",
    "        {\"role\": \"user\", \"content\": \"\".join(str(clean))},\n",
    "    ],\n",
    "    response_format=SummaryEvent,\n",
    ")\n",
    "\n",
    "event = completion.choices[0].message.parsed"
   ]
  },
  {
   "cell_type": "code",
   "execution_count": 66,
   "id": "e2f06120",
   "metadata": {},
   "outputs": [
    {
     "data": {
      "text/plain": [
       "'Saarth Shah is developing a system for automatically joining and taking notes in Google meetings. Currently, the system is running locally without a backend but plans are underway to integrate it with a Supabase instance for deployment as a web app. This would automate the process allowing for functionalities such as joining meetings, taking notes, and possibly using plugins like Notion or Google Docs for enhanced features. The current prototype is manually programmed to leave calls after a set duration to facilitate testing.'"
      ]
     },
     "execution_count": 66,
     "metadata": {},
     "output_type": "execute_result"
    }
   ],
   "source": [
    "event.summary"
   ]
  },
  {
   "cell_type": "code",
   "execution_count": 67,
   "id": "8555a04f",
   "metadata": {},
   "outputs": [
    {
     "data": {
      "text/plain": [
       "['Complete backend integration using Supabase.',\n",
       " 'Develop a web app interface for accessibility and deployment.',\n",
       " 'Incorporate note-taking capabilities in the system.',\n",
       " 'Consider integrating Notion and Google Docs plugins for additional functionalities.',\n",
       " 'Test the meeting joining and note-taking automation thoroughly.']"
      ]
     },
     "execution_count": 67,
     "metadata": {},
     "output_type": "execute_result"
    }
   ],
   "source": [
    "event.action_items"
   ]
  },
  {
   "cell_type": "code",
   "execution_count": 70,
   "id": "f96a3cc8",
   "metadata": {},
   "outputs": [],
   "source": [
    "def summarizeTranscript(transcript, prompt=\"\"):\n",
    "    completion = client.beta.chat.completions.parse(\n",
    "    model=\"gpt-4o-2024-08-06\",\n",
    "    messages=[\n",
    "        {\"role\": \"system\", \"content\": \"Extract a detailed summary and action items from the transcript\" + prompt},\n",
    "        {\"role\": \"user\", \"content\": transcript}\n",
    "    ],\n",
    "        response_format=SummaryEvent,\n",
    "    )\n",
    "\n",
    "    event = completion.choices[0].message.parsed\n",
    "    \n",
    "    return {\"summary\":event.summary,\n",
    "            \"action_items\":event.action_items}"
   ]
  },
  {
   "cell_type": "code",
   "execution_count": 71,
   "id": "bc93c80d",
   "metadata": {},
   "outputs": [
    {
     "data": {
      "text/plain": [
       "{'summary': 'Saarth Shah discusses the process of storing transcripts from a Google meeting and mentions that the entirety of the system currently runs on his local machine, lacking a back-end implementation. He plans to migrate the setup to a Superbase instance, enabling it to integrate more efficiently into a web app. This setup will allow the agent to automatically join meetings, take notes, and potentially integrate with Google Docs and Notion plugins. The agent is manually programmed to join meetings a minute early and leave after a set time for testing purposes.',\n",
       " 'action_items': ['Develop a back-end system for the current local machine setup.',\n",
       "  'Set up a Superbase instance for better integration and scalability.',\n",
       "  'Create a web app to automate the joining and note-taking during meetings.',\n",
       "  'Explore integration options with Google Docs and Notion plugins.',\n",
       "  \"Test the timing settings for the agent's joining and leaving the meeting calls.\"]}"
      ]
     },
     "execution_count": 71,
     "metadata": {},
     "output_type": "execute_result"
    }
   ],
   "source": [
    "summarizeTranscript(\"\".join(str(clean)))"
   ]
  },
  {
   "cell_type": "code",
   "execution_count": 73,
   "id": "78522f79",
   "metadata": {},
   "outputs": [],
   "source": [
    "import aiohttp"
   ]
  },
  {
   "cell_type": "code",
   "execution_count": 74,
   "id": "4df09fb6",
   "metadata": {},
   "outputs": [],
   "source": []
  },
  {
   "cell_type": "code",
   "execution_count": 76,
   "id": "c2bb097c",
   "metadata": {},
   "outputs": [
    {
     "ename": "Exception",
     "evalue": "Failed to set up event subscription",
     "output_type": "error",
     "traceback": [
      "\u001b[0;31m---------------------------------------------------------------------------\u001b[0m",
      "\u001b[0;31mException\u001b[0m                                 Traceback (most recent call last)",
      "Cell \u001b[0;32mIn[76], line 1\u001b[0m\n\u001b[0;32m----> 1\u001b[0m res \u001b[38;5;241m=\u001b[39m \u001b[38;5;28;01mawait\u001b[39;00m sync_google_calendar(\u001b[38;5;124m'\u001b[39m\u001b[38;5;124m1//06gVSfDNTDylGCgYIARAAGAYSNwF-L9IrGdh3BgDbd0C0Ysb9A58q5d6FUm9lkhyzWEA0IOyv1DGwoUIiVBmaHwsqa05PFp2q1KE\u001b[39m\u001b[38;5;124m'\u001b[39m,\u001b[38;5;124m'\u001b[39m\u001b[38;5;124mb63143f6-ce59-465f-b166-4fe7139cd381\u001b[39m\u001b[38;5;124m'\u001b[39m)\n",
      "Cell \u001b[0;32mIn[74], line 12\u001b[0m, in \u001b[0;36msync_google_calendar\u001b[0;34m(refresh_token, user_id)\u001b[0m\n\u001b[1;32m      9\u001b[0m meet_events \u001b[38;5;241m=\u001b[39m [event \u001b[38;5;28;01mfor\u001b[39;00m event \u001b[38;5;129;01min\u001b[39;00m events \u001b[38;5;28;01mif\u001b[39;00m \u001b[38;5;124m'\u001b[39m\u001b[38;5;124mhangoutLink\u001b[39m\u001b[38;5;124m'\u001b[39m \u001b[38;5;129;01min\u001b[39;00m event]\n\u001b[1;32m     11\u001b[0m \u001b[38;5;66;03m# Step 4: Set up subscriptions for changes in events\u001b[39;00m\n\u001b[0;32m---> 12\u001b[0m \u001b[38;5;28;01mawait\u001b[39;00m setup_event_subscriptions(access_token, user_id)\n\u001b[1;32m     14\u001b[0m \u001b[38;5;66;03m# Step 5: Push events to Supabase\u001b[39;00m\n\u001b[1;32m     15\u001b[0m \u001b[38;5;28;01mfor\u001b[39;00m event \u001b[38;5;129;01min\u001b[39;00m meet_events:\n",
      "Cell \u001b[0;32mIn[74], line 69\u001b[0m, in \u001b[0;36msetup_event_subscriptions\u001b[0;34m(access_token, user_id)\u001b[0m\n\u001b[1;32m     67\u001b[0m \u001b[38;5;28;01masync\u001b[39;00m \u001b[38;5;28;01mwith\u001b[39;00m session\u001b[38;5;241m.\u001b[39mpost(url, headers\u001b[38;5;241m=\u001b[39mheaders, json\u001b[38;5;241m=\u001b[39mdata) \u001b[38;5;28;01mas\u001b[39;00m response:\n\u001b[1;32m     68\u001b[0m     \u001b[38;5;28;01mif\u001b[39;00m response\u001b[38;5;241m.\u001b[39mstatus \u001b[38;5;241m!=\u001b[39m \u001b[38;5;241m200\u001b[39m:\n\u001b[0;32m---> 69\u001b[0m         \u001b[38;5;28;01mraise\u001b[39;00m \u001b[38;5;167;01mException\u001b[39;00m(\u001b[38;5;124m\"\u001b[39m\u001b[38;5;124mFailed to set up event subscription\u001b[39m\u001b[38;5;124m\"\u001b[39m)\n",
      "\u001b[0;31mException\u001b[0m: Failed to set up event subscription"
     ]
    }
   ],
   "source": [
    "res = await sync_google_calendar('1//06gVSfDNTDylGCgYIARAAGAYSNwF-L9IrGdh3BgDbd0C0Ysb9A58q5d6FUm9lkhyzWEA0IOyv1DGwoUIiVBmaHwsqa05PFp2q1KE','b63143f6-ce59-465f-b166-4fe7139cd381')"
   ]
  },
  {
   "cell_type": "code",
   "execution_count": 5,
   "id": "4cc3a9ac",
   "metadata": {},
   "outputs": [
    {
     "name": "stdout",
     "output_type": "stream",
     "text": [
      "{'status': 'Task scheduled', 'task_id': 'sync-calendar-task'}\n"
     ]
    }
   ],
   "source": [
    "import requests\n",
    "from datetime import datetime, timedelta\n",
    "\n",
    "# Calculate the run time 5 minutes from now\n",
    "run_time = (datetime.utcnow() + timedelta(seconds=30)).strftime('%Y-%m-%d %H:%M:%S')\n",
    "\n",
    "# Define the task details\n",
    "task_data = {\n",
    "    \"task_id\": \"sync-calendar-task\",\n",
    "    \"run_time\": run_time,\n",
    "    \"link\": \"http://localhost:8000/sync-calendar\",\n",
    "    \"headers\": {\"Content-Type\": \"application/json\"},\n",
    "    \"body\": {\"user_id\": \"b63143f6-ce59-465f-b166-4fe7139cd381\"}\n",
    "}\n",
    "\n",
    "# Schedule the task\n",
    "response = requests.post(\"http://ng0o4wc4cc0okkggcswcso8g.13.57.250.87.sslip.io/schedule-task\", json=task_data)\n",
    "\n",
    "# Print the response\n",
    "print(response.json())"
   ]
  },
  {
   "cell_type": "code",
   "execution_count": null,
   "id": "df566c5d",
   "metadata": {},
   "outputs": [],
   "source": []
  }
 ],
 "metadata": {
  "kernelspec": {
   "display_name": "Python 3 (ipykernel)",
   "language": "python",
   "name": "python3"
  },
  "language_info": {
   "codemirror_mode": {
    "name": "ipython",
    "version": 3
   },
   "file_extension": ".py",
   "mimetype": "text/x-python",
   "name": "python",
   "nbconvert_exporter": "python",
   "pygments_lexer": "ipython3",
   "version": "3.11.5"
  }
 },
 "nbformat": 4,
 "nbformat_minor": 5
}
